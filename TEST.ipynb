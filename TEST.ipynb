{
 "cells": [
  {
   "cell_type": "code",
   "execution_count": null,
   "id": "ed1c6cd5",
   "metadata": {},
   "outputs": [],
   "source": [
    "import torch    #นำเข้าไลบรารี PyTorch เพื่อใช้งานฟังก์ชันต่าง ๆ\n",
    "print(torch.version.cuda) #ดูเวอร์ชันของ CUDA ที่ PyTorch รองรับ (เช่น '12.4') หมายเหตุ:CUDA version ที่ PyTorch ถูกคอมไพล์มาด้วยไม่จำเป็นต้องตรงกับ CUDA ที่ติดตั้งในเครื่องเสมอ\n",
    "print(torch.__version__)    #แสดงเวอร์ชันของ PyTorch ที่ติดตั้งอยู่ (เช่น '2.6.0+cu124')\n",
    "print(torch.cuda.is_available()) #ตรวจสอบว่าเครื่องสามารถใช้งาน GPU ผ่าน CUDA ได้หรือไม่ True = ใช้ GPU ได้ || False = ใช้ไม่ได้ (อาจไม่มี GPU, ไม่มีไดรเวอร์, หรือ PyTorch ไม่รองรับ CUDA)\n",
    "print(torch.cuda.get_device_name(0)) #แสดง ชื่อของ GPU ที่ใช้งานได้เครื่องนี้ (device 0) เช่น NVIDIA GeForce RTX 4050 Laptop GPU"
   ]
  },
  {
   "cell_type": "markdown",
   "id": "da40788c",
   "metadata": {},
   "source": []
  },
  {
   "cell_type": "code",
   "execution_count": null,
   "id": "478438bc",
   "metadata": {},
   "outputs": [],
   "source": [
    "#สำหรับเทรน model\n",
    "from ultralytics import YOLO\n",
    "from pathlib import Path\n",
    "\n",
    "model = YOLO(\"yolov8n.pt\")\n",
    "path = Path(\"C://Py_Ai_Day1//data.yaml\") #Set path .yaml\n",
    "\n",
    "\n",
    "if not path.exists():\n",
    "    raise FileNotFoundError(f\"dataset not found\")\n",
    "else:\n",
    "    print(f\"Found {path}\")\n",
    "\n",
    "result = model.train(\n",
    "    data= path,\n",
    "    epochs=100,\n",
    "    imgsz=640,\n",
    "    batch=4,\n",
    "    lr0=0.01,\n",
    "    val=True,\n",
    "    plots=True\n",
    ")\n",
    "\n",
    "result = model.val()"
   ]
  },
  {
   "cell_type": "code",
   "execution_count": null,
   "id": "bef33706",
   "metadata": {},
   "outputs": [],
   "source": [
    "from ultralytics import YOLO\n",
    "import torch\n",
    "\n",
    "# ตรวจสอบว่าใช้ GPU ได้ไหม\n",
    "print(\"CUDA Available:\", torch.cuda.is_available())\n",
    "if torch.cuda.is_available():\n",
    "    print(\"Device:\", torch.cuda.get_device_name(0))\n",
    "\n",
    "# โหลดโมเดล\n",
    "model = YOLO(\"runs/detect/train4/weights/best.pt\")\n",
    "\n",
    "# ทำนายภาพโดยใช้ GPU\n",
    "results = model.predict('C:\\\\Py_Ai_Day1\\\\B2.jpg',\n",
    "                        conf=0.5,\n",
    "                        save=True,\n",
    "                        device=0)  # ใช้ GPU 0\n",
    "\n",
    "# แสดงผลลัพธ์ใน Notebook\n",
    "results[0].show()\n"
   ]
  },
  {
   "cell_type": "code",
   "execution_count": null,
   "id": "6895acc0",
   "metadata": {},
   "outputs": [],
   "source": [
    "import torch\n",
    "print(torch.__version__)\n",
    "print(\"CUDA Available:\", torch.cuda.is_available())\n",
    "print(\"CUDA Version:\", torch.version.cuda)\n"
   ]
  },
  {
   "cell_type": "code",
   "execution_count": null,
   "id": "0ce94cc5",
   "metadata": {},
   "outputs": [],
   "source": [
    "#Predict ด้วยภาพที่เตรียมไว้\n",
    "import matplotlib.pyplot as plt\n",
    "model = YOLO(\"runs/detect/train4/weights/best.pt\")\n",
    "model.predict('C:\\\\Py_Ai_Day1\\\\B2.jpg',\n",
    "              save=True,\n",
    "              conf=0.5)\n",
    "model.predict('C:\\\\Py_Ai_Day1\\\\C.jpg',\n",
    "              save=True,\n",
    "              conf=0.5)"
   ]
  },
  {
   "cell_type": "code",
   "execution_count": null,
   "id": "00b8c3dc",
   "metadata": {},
   "outputs": [],
   "source": [
    "#CPU\n",
    "from ultralytics import YOLO\n",
    "import matplotlib.pyplot as plt\n",
    "\n",
    "# โหลดโมเดล\n",
    "model = YOLO(\"runs/detect/train5/weights/best.pt\")\n",
    "\n",
    "# ทำนายและแสดงผลภาพ B.jpg\n",
    "results_b = model.predict('C:\\\\Py_Ai_Day1\\\\B2.jpg', conf=0.5)\n",
    "results_b[0].show()\n",
    "\n",
    "# ทำนายและแสดงผลภาพ C.jpg\n",
    "results_c = model.predict('C:\\\\Py_Ai_Day1\\\\C.jpg', conf=0.5)\n",
    "results_c[0].show()\n"
   ]
  },
  {
   "cell_type": "code",
   "execution_count": null,
   "id": "86f1ad1c",
   "metadata": {},
   "outputs": [],
   "source": [
    "#GPU\n",
    "from ultralytics import YOLO\n",
    "import matplotlib.pyplot as plt\n",
    "\n",
    "# โหลดโมเดล\n",
    "model = YOLO(\"runs/detect/train5/weights/best.pt\")\n",
    "\n",
    "# ทำนายและแสดงผลภาพ B2.jpg ด้วย GPU (device=0)\n",
    "results_b = model.predict('C:\\\\Py_Ai_Day1\\\\B2.jpg', conf=0.5, device=0)\n",
    "results_b[0].show()\n",
    "\n",
    "# ทำนายและแสดงผลภาพ C.jpg ด้วย GPU (device=0)\n",
    "results_c = model.predict('C:\\\\Py_Ai_Day1\\\\C.jpg', conf=0.5, device=0)\n",
    "results_c[0].show()\n"
   ]
  },
  {
   "cell_type": "code",
   "execution_count": null,
   "id": "ecb1c93a",
   "metadata": {},
   "outputs": [],
   "source": [
    "#ส่งผลการทดสอบ\n",
    "import torch\n",
    "print(\"CUDA available:\", torch.cuda.is_available())\n",
    "print(\"Current device:\", torch.cuda.current_device() if torch.cuda.is_available() else \"CPU\")\n",
    "metrics = model.val(data=path, imgsz=640)\n",
    "print(\"mAP50-95:\", metrics.box.map)   \n",
    "print(\"mAP50   :\", metrics.box.map50)\n",
    "print(\"mAP75   :\", metrics.box.map75)\n",
    "print(\"per-class AP:\", metrics.box.maps)"
   ]
  },
  {
   "cell_type": "code",
   "execution_count": null,
   "id": "f790d642",
   "metadata": {},
   "outputs": [],
   "source": []
  }
 ],
 "metadata": {
  "kernelspec": {
   "display_name": ".venv",
   "language": "python",
   "name": "python3"
  },
  "language_info": {
   "codemirror_mode": {
    "name": "ipython",
    "version": 3
   },
   "file_extension": ".py",
   "mimetype": "text/x-python",
   "name": "python",
   "nbconvert_exporter": "python",
   "pygments_lexer": "ipython3",
   "version": "3.13.4"
  }
 },
 "nbformat": 4,
 "nbformat_minor": 5
}
