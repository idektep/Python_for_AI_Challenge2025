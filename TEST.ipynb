{
 "cells": [
  {
   "cell_type": "markdown",
   "id": "da40788c",
   "metadata": {},
   "source": []
  },
  {
   "cell_type": "code",
   "execution_count": null,
   "id": "478438bc",
   "metadata": {},
   "outputs": [],
   "source": [
    "#สำหรับเทรน model\n",
    "from ultralytics import YOLO\n",
    "from pathlib import Path\n",
    "\n",
    "model = YOLO(\"yolov8n.pt\")\n",
    "path = Path(\"C://Py_Ai_Day1//data.yaml\") #Set path .yaml\n",
    "\n",
    "\n",
    "if not path.exists():\n",
    "    raise FileNotFoundError(f\"dataset not found\")\n",
    "else:\n",
    "    print(f\"Found {path}\")\n",
    "\n",
    "result = model.train(\n",
    "    data= path,\n",
    "    epochs=100,\n",
    "    imgsz=640,\n",
    "    batch=4,\n",
    "    lr0=0.01,\n",
    "    val=True,\n",
    "    plots=True\n",
    ")\n",
    "\n",
    "result = model.val()"
   ]
  },
  {
   "cell_type": "code",
   "execution_count": null,
   "id": "0ce94cc5",
   "metadata": {},
   "outputs": [],
   "source": [
    "#Predict ด้วยภาพที่เตรียมไว้\n",
    "from ultralytics import YOLO\n",
    "import matplotlib.pyplot as plt\n",
    "model = YOLO(\"runs/detect/train/weights/best.pt\")\n",
    "model.predict('C:\\\\Py_Ai_Day1\\\\B2.jpg',\n",
    "              save=True,\n",
    "              conf=0.5)\n",
    "model.predict('C:\\\\Py_Ai_Day1\\\\C.jpg',\n",
    "              save=True,\n",
    "              conf=0.5)"
   ]
  },
  {
   "cell_type": "code",
   "execution_count": null,
   "id": "00b8c3dc",
   "metadata": {},
   "outputs": [],
   "source": [
    "#CPU\n",
    "from ultralytics import YOLO\n",
    "import matplotlib.pyplot as plt\n",
    "\n",
    "# โหลดโมเดล\n",
    "model = YOLO(\"runs/detect/train/weights/best.pt\")\n",
    "\n",
    "# ทำนายและแสดงผลภาพ B.jpg\n",
    "results_b = model.predict('C:\\\\Py_Ai_Day1\\\\B2.jpg', conf=0.5)\n",
    "results_b[0].show()\n",
    "\n",
    "# ทำนายและแสดงผลภาพ C.jpg\n",
    "results_c = model.predict('C:\\\\Py_Ai_Day1\\\\C.jpg', conf=0.5)\n",
    "results_c[0].show()\n"
   ]
  },
  {
   "cell_type": "code",
   "execution_count": null,
   "id": "f790d642",
   "metadata": {},
   "outputs": [],
   "source": [
    "#ส่งผลการทดสอบ\n",
    "from ultralytics import YOLO\n",
    "from pathlib import Path\n",
    "\n",
    "path = Path(\"C://Py_Ai_Day1//data.yaml\") #Set path .yaml\n",
    "\n",
    "metrics = model.val(data=path, imgsz=640)\n",
    "print(\"mAP50-95:\", metrics.box.map)   \n",
    "print(\"mAP50   :\", metrics.box.map50)\n",
    "print(\"mAP75   :\", metrics.box.map75)\n",
    "print(\"per-class AP:\", metrics.box.maps)"
   ]
  }
 ],
 "metadata": {
  "kernelspec": {
   "display_name": ".venv",
   "language": "python",
   "name": "python3"
  },
  "language_info": {
   "codemirror_mode": {
    "name": "ipython",
    "version": 3
   },
   "file_extension": ".py",
   "mimetype": "text/x-python",
   "name": "python",
   "nbconvert_exporter": "python",
   "pygments_lexer": "ipython3",
   "version": "3.13.4"
  }
 },
 "nbformat": 4,
 "nbformat_minor": 5
}
